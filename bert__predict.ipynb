{
  "nbformat": 4,
  "nbformat_minor": 0,
  "metadata": {
    "colab": {
      "name": "bert _predict.ipynb",
      "provenance": [],
      "collapsed_sections": []
    },
    "kernelspec": {
      "name": "python3",
      "display_name": "Python 3"
    },
    "language_info": {
      "name": "python"
    }
  },
  "cells": [
    {
      "cell_type": "code",
      "execution_count": null,
      "metadata": {
        "colab": {
          "base_uri": "https://localhost:8080/"
        },
        "id": "pP8RAoF4RQ_M",
        "outputId": "a88aec61-3702-4161-9dba-a95ba16200f5"
      },
      "outputs": [
        {
          "output_type": "stream",
          "name": "stdout",
          "text": [
            "Cloning into 'ABSA-PyTorch'...\n",
            "remote: Enumerating objects: 503, done.\u001b[K\n",
            "remote: Counting objects: 100% (23/23), done.\u001b[K\n",
            "remote: Compressing objects: 100% (19/19), done.\u001b[K\n",
            "remote: Total 503 (delta 9), reused 14 (delta 4), pack-reused 480\u001b[K\n",
            "Receiving objects: 100% (503/503), 3.80 MiB | 9.65 MiB/s, done.\n",
            "Resolving deltas: 100% (315/315), done.\n"
          ]
        }
      ],
      "source": [
        "!git clone https://github.com/songyouwei/ABSA-PyTorch\n",
        "!cd /content"
      ]
    },
    {
      "cell_type": "markdown",
      "source": [
        ""
      ],
      "metadata": {
        "id": "p3c9-gUH4I-O"
      }
    },
    {
      "cell_type": "code",
      "source": [
        "from google.colab import drive\n",
        "drive.mount('/content/drive')"
      ],
      "metadata": {
        "colab": {
          "base_uri": "https://localhost:8080/"
        },
        "id": "0jTLhUFJY2t6",
        "outputId": "929bf126-7410-4933-aa6a-5895ca68d8a2"
      },
      "execution_count": 1,
      "outputs": [
        {
          "output_type": "stream",
          "name": "stdout",
          "text": [
            "Mounted at /content/drive\n"
          ]
        }
      ]
    },
    {
      "cell_type": "markdown",
      "source": [
        "# 新段落"
      ],
      "metadata": {
        "id": "JbQD0CE3kzT6"
      }
    },
    {
      "cell_type": "code",
      "source": [
        "!pip install -r /content/drive/MyDrive/ABSA/requirements.txt"
      ],
      "metadata": {
        "colab": {
          "base_uri": "https://localhost:8080/"
        },
        "id": "kXZxu_wwRnAZ",
        "outputId": "0ffa34ec-931d-4d0b-f00b-0b8204c5ad97"
      },
      "execution_count": null,
      "outputs": [
        {
          "output_type": "stream",
          "name": "stdout",
          "text": [
            "Requirement already satisfied: numpy>=1.13.3 in /usr/local/lib/python3.7/dist-packages (from -r /content/drive/MyDrive/ABSA/requirements.txt (line 1)) (1.21.6)\n",
            "Requirement already satisfied: torch>=0.4.0 in /usr/local/lib/python3.7/dist-packages (from -r /content/drive/MyDrive/ABSA/requirements.txt (line 2)) (1.11.0+cu113)\n",
            "Requirement already satisfied: transformers<4.0.0,>=3.5.1 in /usr/local/lib/python3.7/dist-packages (from -r /content/drive/MyDrive/ABSA/requirements.txt (line 3)) (3.5.1)\n",
            "Requirement already satisfied: sklearn in /usr/local/lib/python3.7/dist-packages (from -r /content/drive/MyDrive/ABSA/requirements.txt (line 4)) (0.0)\n",
            "Requirement already satisfied: typing-extensions in /usr/local/lib/python3.7/dist-packages (from torch>=0.4.0->-r /content/drive/MyDrive/ABSA/requirements.txt (line 2)) (4.2.0)\n",
            "Requirement already satisfied: filelock in /usr/local/lib/python3.7/dist-packages (from transformers<4.0.0,>=3.5.1->-r /content/drive/MyDrive/ABSA/requirements.txt (line 3)) (3.6.0)\n",
            "Requirement already satisfied: protobuf in /usr/local/lib/python3.7/dist-packages (from transformers<4.0.0,>=3.5.1->-r /content/drive/MyDrive/ABSA/requirements.txt (line 3)) (3.17.3)\n",
            "Requirement already satisfied: packaging in /usr/local/lib/python3.7/dist-packages (from transformers<4.0.0,>=3.5.1->-r /content/drive/MyDrive/ABSA/requirements.txt (line 3)) (21.3)\n",
            "Requirement already satisfied: tqdm>=4.27 in /usr/local/lib/python3.7/dist-packages (from transformers<4.0.0,>=3.5.1->-r /content/drive/MyDrive/ABSA/requirements.txt (line 3)) (4.64.0)\n",
            "Requirement already satisfied: tokenizers==0.9.3 in /usr/local/lib/python3.7/dist-packages (from transformers<4.0.0,>=3.5.1->-r /content/drive/MyDrive/ABSA/requirements.txt (line 3)) (0.9.3)\n",
            "Requirement already satisfied: regex!=2019.12.17 in /usr/local/lib/python3.7/dist-packages (from transformers<4.0.0,>=3.5.1->-r /content/drive/MyDrive/ABSA/requirements.txt (line 3)) (2019.12.20)\n",
            "Requirement already satisfied: sentencepiece==0.1.91 in /usr/local/lib/python3.7/dist-packages (from transformers<4.0.0,>=3.5.1->-r /content/drive/MyDrive/ABSA/requirements.txt (line 3)) (0.1.91)\n",
            "Requirement already satisfied: sacremoses in /usr/local/lib/python3.7/dist-packages (from transformers<4.0.0,>=3.5.1->-r /content/drive/MyDrive/ABSA/requirements.txt (line 3)) (0.0.49)\n",
            "Requirement already satisfied: requests in /usr/local/lib/python3.7/dist-packages (from transformers<4.0.0,>=3.5.1->-r /content/drive/MyDrive/ABSA/requirements.txt (line 3)) (2.23.0)\n",
            "Requirement already satisfied: scikit-learn in /usr/local/lib/python3.7/dist-packages (from sklearn->-r /content/drive/MyDrive/ABSA/requirements.txt (line 4)) (1.0.2)\n",
            "Requirement already satisfied: pyparsing!=3.0.5,>=2.0.2 in /usr/local/lib/python3.7/dist-packages (from packaging->transformers<4.0.0,>=3.5.1->-r /content/drive/MyDrive/ABSA/requirements.txt (line 3)) (3.0.8)\n",
            "Requirement already satisfied: six>=1.9 in /usr/local/lib/python3.7/dist-packages (from protobuf->transformers<4.0.0,>=3.5.1->-r /content/drive/MyDrive/ABSA/requirements.txt (line 3)) (1.15.0)\n",
            "Requirement already satisfied: urllib3!=1.25.0,!=1.25.1,<1.26,>=1.21.1 in /usr/local/lib/python3.7/dist-packages (from requests->transformers<4.0.0,>=3.5.1->-r /content/drive/MyDrive/ABSA/requirements.txt (line 3)) (1.24.3)\n",
            "Requirement already satisfied: certifi>=2017.4.17 in /usr/local/lib/python3.7/dist-packages (from requests->transformers<4.0.0,>=3.5.1->-r /content/drive/MyDrive/ABSA/requirements.txt (line 3)) (2021.10.8)\n",
            "Requirement already satisfied: chardet<4,>=3.0.2 in /usr/local/lib/python3.7/dist-packages (from requests->transformers<4.0.0,>=3.5.1->-r /content/drive/MyDrive/ABSA/requirements.txt (line 3)) (3.0.4)\n",
            "Requirement already satisfied: idna<3,>=2.5 in /usr/local/lib/python3.7/dist-packages (from requests->transformers<4.0.0,>=3.5.1->-r /content/drive/MyDrive/ABSA/requirements.txt (line 3)) (2.10)\n",
            "Requirement already satisfied: click in /usr/local/lib/python3.7/dist-packages (from sacremoses->transformers<4.0.0,>=3.5.1->-r /content/drive/MyDrive/ABSA/requirements.txt (line 3)) (7.1.2)\n",
            "Requirement already satisfied: joblib in /usr/local/lib/python3.7/dist-packages (from sacremoses->transformers<4.0.0,>=3.5.1->-r /content/drive/MyDrive/ABSA/requirements.txt (line 3)) (1.1.0)\n",
            "Requirement already satisfied: scipy>=1.1.0 in /usr/local/lib/python3.7/dist-packages (from scikit-learn->sklearn->-r /content/drive/MyDrive/ABSA/requirements.txt (line 4)) (1.4.1)\n",
            "Requirement already satisfied: threadpoolctl>=2.0.0 in /usr/local/lib/python3.7/dist-packages (from scikit-learn->sklearn->-r /content/drive/MyDrive/ABSA/requirements.txt (line 4)) (3.1.0)\n"
          ]
        }
      ]
    },
    {
      "cell_type": "code",
      "source": [
        "!pip install pytorch_transformers==1.2.0"
      ],
      "metadata": {
        "colab": {
          "base_uri": "https://localhost:8080/"
        },
        "id": "Uc4VO04IXJ77",
        "outputId": "f48d1458-f8d7-46f2-afe7-52b44ed35c9b"
      },
      "execution_count": null,
      "outputs": [
        {
          "output_type": "stream",
          "name": "stdout",
          "text": [
            "Collecting pytorch_transformers==1.2.0\n",
            "  Downloading pytorch_transformers-1.2.0-py3-none-any.whl (176 kB)\n",
            "\u001b[?25l\r\u001b[K     |█▉                              | 10 kB 20.3 MB/s eta 0:00:01\r\u001b[K     |███▊                            | 20 kB 12.6 MB/s eta 0:00:01\r\u001b[K     |█████▋                          | 30 kB 9.2 MB/s eta 0:00:01\r\u001b[K     |███████▍                        | 40 kB 8.4 MB/s eta 0:00:01\r\u001b[K     |█████████▎                      | 51 kB 4.3 MB/s eta 0:00:01\r\u001b[K     |███████████▏                    | 61 kB 5.0 MB/s eta 0:00:01\r\u001b[K     |█████████████                   | 71 kB 5.4 MB/s eta 0:00:01\r\u001b[K     |██████████████▉                 | 81 kB 5.6 MB/s eta 0:00:01\r\u001b[K     |████████████████▊               | 92 kB 6.2 MB/s eta 0:00:01\r\u001b[K     |██████████████████▋             | 102 kB 5.0 MB/s eta 0:00:01\r\u001b[K     |████████████████████▍           | 112 kB 5.0 MB/s eta 0:00:01\r\u001b[K     |██████████████████████▎         | 122 kB 5.0 MB/s eta 0:00:01\r\u001b[K     |████████████████████████▏       | 133 kB 5.0 MB/s eta 0:00:01\r\u001b[K     |██████████████████████████      | 143 kB 5.0 MB/s eta 0:00:01\r\u001b[K     |███████████████████████████▉    | 153 kB 5.0 MB/s eta 0:00:01\r\u001b[K     |█████████████████████████████▊  | 163 kB 5.0 MB/s eta 0:00:01\r\u001b[K     |███████████████████████████████▋| 174 kB 5.0 MB/s eta 0:00:01\r\u001b[K     |████████████████████████████████| 176 kB 5.0 MB/s \n",
            "\u001b[?25hRequirement already satisfied: numpy in /usr/local/lib/python3.7/dist-packages (from pytorch_transformers==1.2.0) (1.21.6)\n",
            "Requirement already satisfied: tqdm in /usr/local/lib/python3.7/dist-packages (from pytorch_transformers==1.2.0) (4.64.0)\n",
            "Requirement already satisfied: sentencepiece in /usr/local/lib/python3.7/dist-packages (from pytorch_transformers==1.2.0) (0.1.91)\n",
            "Requirement already satisfied: requests in /usr/local/lib/python3.7/dist-packages (from pytorch_transformers==1.2.0) (2.23.0)\n",
            "Requirement already satisfied: regex in /usr/local/lib/python3.7/dist-packages (from pytorch_transformers==1.2.0) (2019.12.20)\n",
            "Collecting boto3\n",
            "  Downloading boto3-1.22.3-py3-none-any.whl (132 kB)\n",
            "\u001b[K     |████████████████████████████████| 132 kB 49.2 MB/s \n",
            "\u001b[?25hRequirement already satisfied: torch>=1.0.0 in /usr/local/lib/python3.7/dist-packages (from pytorch_transformers==1.2.0) (1.11.0+cu113)\n",
            "Requirement already satisfied: sacremoses in /usr/local/lib/python3.7/dist-packages (from pytorch_transformers==1.2.0) (0.0.49)\n",
            "Requirement already satisfied: typing-extensions in /usr/local/lib/python3.7/dist-packages (from torch>=1.0.0->pytorch_transformers==1.2.0) (4.2.0)\n",
            "Collecting jmespath<2.0.0,>=0.7.1\n",
            "  Downloading jmespath-1.0.0-py3-none-any.whl (23 kB)\n",
            "Collecting s3transfer<0.6.0,>=0.5.0\n",
            "  Downloading s3transfer-0.5.2-py3-none-any.whl (79 kB)\n",
            "\u001b[K     |████████████████████████████████| 79 kB 6.9 MB/s \n",
            "\u001b[?25hCollecting botocore<1.26.0,>=1.25.3\n",
            "  Downloading botocore-1.25.3-py3-none-any.whl (8.7 MB)\n",
            "\u001b[K     |████████████████████████████████| 8.7 MB 46.6 MB/s \n",
            "\u001b[?25hCollecting urllib3<1.27,>=1.25.4\n",
            "  Downloading urllib3-1.26.9-py2.py3-none-any.whl (138 kB)\n",
            "\u001b[K     |████████████████████████████████| 138 kB 45.5 MB/s \n",
            "\u001b[?25hRequirement already satisfied: python-dateutil<3.0.0,>=2.1 in /usr/local/lib/python3.7/dist-packages (from botocore<1.26.0,>=1.25.3->boto3->pytorch_transformers==1.2.0) (2.8.2)\n",
            "Requirement already satisfied: six>=1.5 in /usr/local/lib/python3.7/dist-packages (from python-dateutil<3.0.0,>=2.1->botocore<1.26.0,>=1.25.3->boto3->pytorch_transformers==1.2.0) (1.15.0)\n",
            "  Downloading urllib3-1.25.11-py2.py3-none-any.whl (127 kB)\n",
            "\u001b[K     |████████████████████████████████| 127 kB 46.4 MB/s \n",
            "\u001b[?25hRequirement already satisfied: chardet<4,>=3.0.2 in /usr/local/lib/python3.7/dist-packages (from requests->pytorch_transformers==1.2.0) (3.0.4)\n",
            "Requirement already satisfied: idna<3,>=2.5 in /usr/local/lib/python3.7/dist-packages (from requests->pytorch_transformers==1.2.0) (2.10)\n",
            "Requirement already satisfied: certifi>=2017.4.17 in /usr/local/lib/python3.7/dist-packages (from requests->pytorch_transformers==1.2.0) (2021.10.8)\n",
            "Requirement already satisfied: click in /usr/local/lib/python3.7/dist-packages (from sacremoses->pytorch_transformers==1.2.0) (7.1.2)\n",
            "Requirement already satisfied: joblib in /usr/local/lib/python3.7/dist-packages (from sacremoses->pytorch_transformers==1.2.0) (1.1.0)\n",
            "Installing collected packages: urllib3, jmespath, botocore, s3transfer, boto3, pytorch-transformers\n",
            "  Attempting uninstall: urllib3\n",
            "    Found existing installation: urllib3 1.24.3\n",
            "    Uninstalling urllib3-1.24.3:\n",
            "      Successfully uninstalled urllib3-1.24.3\n",
            "\u001b[31mERROR: pip's dependency resolver does not currently take into account all the packages that are installed. This behaviour is the source of the following dependency conflicts.\n",
            "datascience 0.10.6 requires folium==0.2.1, but you have folium 0.8.3 which is incompatible.\u001b[0m\n",
            "Successfully installed boto3-1.22.3 botocore-1.25.3 jmespath-1.0.0 pytorch-transformers-1.2.0 s3transfer-0.5.2 urllib3-1.25.11\n"
          ]
        }
      ]
    },
    {
      "cell_type": "code",
      "source": [
        "!python /content/drive/MyDrive/ABSA/train.py --model_name bert_spc --dataset twitter"
      ],
      "metadata": {
        "colab": {
          "base_uri": "https://localhost:8080/"
        },
        "id": "2yoe9j8LS3f6",
        "outputId": "5beb4a5e-7fee-4aff-abf6-558ec6912a9b"
      },
      "execution_count": null,
      "outputs": [
        {
          "output_type": "stream",
          "name": "stdout",
          "text": [
            "Traceback (most recent call last):\n",
            "  File \"/content/drive/MyDrive/ABSA/train.py\", line 17, in <module>\n",
            "    from pytorch_transformers import BertModel\n",
            "  File \"/usr/local/lib/python3.7/dist-packages/pytorch_transformers/__init__.py\", line 2, in <module>\n",
            "    from .tokenization_auto import AutoTokenizer\n",
            "  File \"/usr/local/lib/python3.7/dist-packages/pytorch_transformers/tokenization_auto.py\", line 21, in <module>\n",
            "    from .tokenization_bert import BertTokenizer\n",
            "  File \"/usr/local/lib/python3.7/dist-packages/pytorch_transformers/tokenization_bert.py\", line 25, in <module>\n",
            "    from .tokenization_utils import PreTrainedTokenizer\n",
            "  File \"/usr/local/lib/python3.7/dist-packages/pytorch_transformers/tokenization_utils.py\", line 26, in <module>\n",
            "    from .file_utils import cached_path\n",
            "  File \"/usr/local/lib/python3.7/dist-packages/pytorch_transformers/file_utils.py\", line 26, in <module>\n",
            "    from torch.hub import _get_torch_home\n",
            "  File \"/usr/local/lib/python3.7/dist-packages/torch/__init__.py\", line 199, in <module>\n",
            "    from torch._C import *  # noqa: F403\n",
            "RuntimeError: KeyboardInterrupt: \n"
          ]
        }
      ]
    },
    {
      "cell_type": "code",
      "source": [
        "!pip install transformers==4.11.3.  "
      ],
      "metadata": {
        "colab": {
          "base_uri": "https://localhost:8080/"
        },
        "id": "bqdjiPzcYKDb",
        "outputId": "044b02c9-c3bd-42a2-c7ac-5e87d048c0cf"
      },
      "execution_count": null,
      "outputs": [
        {
          "output_type": "stream",
          "name": "stdout",
          "text": [
            "Collecting transformers==4.11.3.\n",
            "  Downloading transformers-4.11.3-py3-none-any.whl (2.9 MB)\n",
            "\u001b[K     |████████████████████████████████| 2.9 MB 5.1 MB/s \n",
            "\u001b[?25hRequirement already satisfied: numpy>=1.17 in /usr/local/lib/python3.7/dist-packages (from transformers==4.11.3.) (1.21.6)\n",
            "Requirement already satisfied: sacremoses in /usr/local/lib/python3.7/dist-packages (from transformers==4.11.3.) (0.0.49)\n",
            "Requirement already satisfied: regex!=2019.12.17 in /usr/local/lib/python3.7/dist-packages (from transformers==4.11.3.) (2019.12.20)\n",
            "Requirement already satisfied: packaging>=20.0 in /usr/local/lib/python3.7/dist-packages (from transformers==4.11.3.) (21.3)\n",
            "Requirement already satisfied: filelock in /usr/local/lib/python3.7/dist-packages (from transformers==4.11.3.) (3.6.0)\n",
            "Requirement already satisfied: tqdm>=4.27 in /usr/local/lib/python3.7/dist-packages (from transformers==4.11.3.) (4.64.0)\n",
            "Collecting pyyaml>=5.1\n",
            "  Downloading PyYAML-6.0-cp37-cp37m-manylinux_2_5_x86_64.manylinux1_x86_64.manylinux_2_12_x86_64.manylinux2010_x86_64.whl (596 kB)\n",
            "\u001b[K     |████████████████████████████████| 596 kB 46.8 MB/s \n",
            "\u001b[?25hRequirement already satisfied: importlib-metadata in /usr/local/lib/python3.7/dist-packages (from transformers==4.11.3.) (4.11.3)\n",
            "Collecting huggingface-hub>=0.0.17\n",
            "  Downloading huggingface_hub-0.5.1-py3-none-any.whl (77 kB)\n",
            "\u001b[K     |████████████████████████████████| 77 kB 4.5 MB/s \n",
            "\u001b[?25hCollecting tokenizers<0.11,>=0.10.1\n",
            "  Downloading tokenizers-0.10.3-cp37-cp37m-manylinux_2_5_x86_64.manylinux1_x86_64.manylinux_2_12_x86_64.manylinux2010_x86_64.whl (3.3 MB)\n",
            "\u001b[K     |████████████████████████████████| 3.3 MB 32.9 MB/s \n",
            "\u001b[?25hRequirement already satisfied: requests in /usr/local/lib/python3.7/dist-packages (from transformers==4.11.3.) (2.23.0)\n",
            "Requirement already satisfied: typing-extensions>=3.7.4.3 in /usr/local/lib/python3.7/dist-packages (from huggingface-hub>=0.0.17->transformers==4.11.3.) (4.2.0)\n",
            "Requirement already satisfied: pyparsing!=3.0.5,>=2.0.2 in /usr/local/lib/python3.7/dist-packages (from packaging>=20.0->transformers==4.11.3.) (3.0.8)\n",
            "Requirement already satisfied: zipp>=0.5 in /usr/local/lib/python3.7/dist-packages (from importlib-metadata->transformers==4.11.3.) (3.8.0)\n",
            "Requirement already satisfied: urllib3!=1.25.0,!=1.25.1,<1.26,>=1.21.1 in /usr/local/lib/python3.7/dist-packages (from requests->transformers==4.11.3.) (1.25.11)\n",
            "Requirement already satisfied: idna<3,>=2.5 in /usr/local/lib/python3.7/dist-packages (from requests->transformers==4.11.3.) (2.10)\n",
            "Requirement already satisfied: certifi>=2017.4.17 in /usr/local/lib/python3.7/dist-packages (from requests->transformers==4.11.3.) (2021.10.8)\n",
            "Requirement already satisfied: chardet<4,>=3.0.2 in /usr/local/lib/python3.7/dist-packages (from requests->transformers==4.11.3.) (3.0.4)\n",
            "Requirement already satisfied: click in /usr/local/lib/python3.7/dist-packages (from sacremoses->transformers==4.11.3.) (7.1.2)\n",
            "Requirement already satisfied: joblib in /usr/local/lib/python3.7/dist-packages (from sacremoses->transformers==4.11.3.) (1.1.0)\n",
            "Requirement already satisfied: six in /usr/local/lib/python3.7/dist-packages (from sacremoses->transformers==4.11.3.) (1.15.0)\n",
            "Installing collected packages: pyyaml, tokenizers, huggingface-hub, transformers\n",
            "  Attempting uninstall: pyyaml\n",
            "    Found existing installation: PyYAML 3.13\n",
            "    Uninstalling PyYAML-3.13:\n",
            "      Successfully uninstalled PyYAML-3.13\n",
            "  Attempting uninstall: tokenizers\n",
            "    Found existing installation: tokenizers 0.9.3\n",
            "    Uninstalling tokenizers-0.9.3:\n",
            "      Successfully uninstalled tokenizers-0.9.3\n",
            "  Attempting uninstall: transformers\n",
            "    Found existing installation: transformers 3.5.1\n",
            "    Uninstalling transformers-3.5.1:\n",
            "      Successfully uninstalled transformers-3.5.1\n",
            "Successfully installed huggingface-hub-0.5.1 pyyaml-6.0 tokenizers-0.10.3 transformers-4.11.3\n"
          ]
        }
      ]
    },
    {
      "cell_type": "code",
      "source": [
        "!pip install transformers==2.8.0.  "
      ],
      "metadata": {
        "colab": {
          "base_uri": "https://localhost:8080/"
        },
        "id": "lc_GpJ8mu1jO",
        "outputId": "16a95dfe-ba02-4d7a-ec23-a3c0460ae93d"
      },
      "execution_count": null,
      "outputs": [
        {
          "output_type": "stream",
          "name": "stdout",
          "text": [
            "Collecting transformers==2.8.0.\n",
            "  Downloading transformers-2.8.0-py3-none-any.whl (563 kB)\n",
            "\u001b[?25l\r\u001b[K     |▋                               | 10 kB 10.2 MB/s eta 0:00:01\r\u001b[K     |█▏                              | 20 kB 8.0 MB/s eta 0:00:01\r\u001b[K     |█▊                              | 30 kB 6.3 MB/s eta 0:00:01\r\u001b[K     |██▎                             | 40 kB 6.3 MB/s eta 0:00:01\r\u001b[K     |███                             | 51 kB 4.0 MB/s eta 0:00:01\r\u001b[K     |███▌                            | 61 kB 4.7 MB/s eta 0:00:01\r\u001b[K     |████                            | 71 kB 4.6 MB/s eta 0:00:01\r\u001b[K     |████▋                           | 81 kB 5.2 MB/s eta 0:00:01\r\u001b[K     |█████▎                          | 92 kB 5.4 MB/s eta 0:00:01\r\u001b[K     |█████▉                          | 102 kB 4.8 MB/s eta 0:00:01\r\u001b[K     |██████▍                         | 112 kB 4.8 MB/s eta 0:00:01\r\u001b[K     |███████                         | 122 kB 4.8 MB/s eta 0:00:01\r\u001b[K     |███████▋                        | 133 kB 4.8 MB/s eta 0:00:01\r\u001b[K     |████████▏                       | 143 kB 4.8 MB/s eta 0:00:01\r\u001b[K     |████████▊                       | 153 kB 4.8 MB/s eta 0:00:01\r\u001b[K     |█████████▎                      | 163 kB 4.8 MB/s eta 0:00:01\r\u001b[K     |█████████▉                      | 174 kB 4.8 MB/s eta 0:00:01\r\u001b[K     |██████████▌                     | 184 kB 4.8 MB/s eta 0:00:01\r\u001b[K     |███████████                     | 194 kB 4.8 MB/s eta 0:00:01\r\u001b[K     |███████████▋                    | 204 kB 4.8 MB/s eta 0:00:01\r\u001b[K     |████████████▏                   | 215 kB 4.8 MB/s eta 0:00:01\r\u001b[K     |████████████▉                   | 225 kB 4.8 MB/s eta 0:00:01\r\u001b[K     |█████████████▍                  | 235 kB 4.8 MB/s eta 0:00:01\r\u001b[K     |██████████████                  | 245 kB 4.8 MB/s eta 0:00:01\r\u001b[K     |██████████████▌                 | 256 kB 4.8 MB/s eta 0:00:01\r\u001b[K     |███████████████▏                | 266 kB 4.8 MB/s eta 0:00:01\r\u001b[K     |███████████████▊                | 276 kB 4.8 MB/s eta 0:00:01\r\u001b[K     |████████████████▎               | 286 kB 4.8 MB/s eta 0:00:01\r\u001b[K     |████████████████▉               | 296 kB 4.8 MB/s eta 0:00:01\r\u001b[K     |█████████████████▍              | 307 kB 4.8 MB/s eta 0:00:01\r\u001b[K     |██████████████████              | 317 kB 4.8 MB/s eta 0:00:01\r\u001b[K     |██████████████████▋             | 327 kB 4.8 MB/s eta 0:00:01\r\u001b[K     |███████████████████▏            | 337 kB 4.8 MB/s eta 0:00:01\r\u001b[K     |███████████████████▊            | 348 kB 4.8 MB/s eta 0:00:01\r\u001b[K     |████████████████████▍           | 358 kB 4.8 MB/s eta 0:00:01\r\u001b[K     |█████████████████████           | 368 kB 4.8 MB/s eta 0:00:01\r\u001b[K     |█████████████████████▌          | 378 kB 4.8 MB/s eta 0:00:01\r\u001b[K     |██████████████████████          | 389 kB 4.8 MB/s eta 0:00:01\r\u001b[K     |██████████████████████▊         | 399 kB 4.8 MB/s eta 0:00:01\r\u001b[K     |███████████████████████▎        | 409 kB 4.8 MB/s eta 0:00:01\r\u001b[K     |███████████████████████▉        | 419 kB 4.8 MB/s eta 0:00:01\r\u001b[K     |████████████████████████▍       | 430 kB 4.8 MB/s eta 0:00:01\r\u001b[K     |█████████████████████████       | 440 kB 4.8 MB/s eta 0:00:01\r\u001b[K     |█████████████████████████▋      | 450 kB 4.8 MB/s eta 0:00:01\r\u001b[K     |██████████████████████████▏     | 460 kB 4.8 MB/s eta 0:00:01\r\u001b[K     |██████████████████████████▊     | 471 kB 4.8 MB/s eta 0:00:01\r\u001b[K     |███████████████████████████▎    | 481 kB 4.8 MB/s eta 0:00:01\r\u001b[K     |████████████████████████████    | 491 kB 4.8 MB/s eta 0:00:01\r\u001b[K     |████████████████████████████▌   | 501 kB 4.8 MB/s eta 0:00:01\r\u001b[K     |█████████████████████████████   | 512 kB 4.8 MB/s eta 0:00:01\r\u001b[K     |█████████████████████████████▋  | 522 kB 4.8 MB/s eta 0:00:01\r\u001b[K     |██████████████████████████████▎ | 532 kB 4.8 MB/s eta 0:00:01\r\u001b[K     |██████████████████████████████▉ | 542 kB 4.8 MB/s eta 0:00:01\r\u001b[K     |███████████████████████████████▍| 552 kB 4.8 MB/s eta 0:00:01\r\u001b[K     |████████████████████████████████| 563 kB 4.8 MB/s eta 0:00:01\r\u001b[K     |████████████████████████████████| 563 kB 4.8 MB/s \n",
            "\u001b[?25hRequirement already satisfied: numpy in /usr/local/lib/python3.7/dist-packages (from transformers==2.8.0.) (1.21.6)\n",
            "Requirement already satisfied: boto3 in /usr/local/lib/python3.7/dist-packages (from transformers==2.8.0.) (1.22.3)\n",
            "Requirement already satisfied: tqdm>=4.27 in /usr/local/lib/python3.7/dist-packages (from transformers==2.8.0.) (4.64.0)\n",
            "Requirement already satisfied: requests in /usr/local/lib/python3.7/dist-packages (from transformers==2.8.0.) (2.23.0)\n",
            "Requirement already satisfied: sentencepiece in /usr/local/lib/python3.7/dist-packages (from transformers==2.8.0.) (0.1.91)\n",
            "Collecting tokenizers==0.5.2\n",
            "  Downloading tokenizers-0.5.2-cp37-cp37m-manylinux1_x86_64.whl (5.6 MB)\n",
            "\u001b[K     |████████████████████████████████| 5.6 MB 58.3 MB/s \n",
            "\u001b[?25hRequirement already satisfied: sacremoses in /usr/local/lib/python3.7/dist-packages (from transformers==2.8.0.) (0.0.49)\n",
            "Requirement already satisfied: regex!=2019.12.17 in /usr/local/lib/python3.7/dist-packages (from transformers==2.8.0.) (2019.12.20)\n",
            "Requirement already satisfied: filelock in /usr/local/lib/python3.7/dist-packages (from transformers==2.8.0.) (3.6.0)\n",
            "Requirement already satisfied: s3transfer<0.6.0,>=0.5.0 in /usr/local/lib/python3.7/dist-packages (from boto3->transformers==2.8.0.) (0.5.2)\n",
            "Requirement already satisfied: botocore<1.26.0,>=1.25.3 in /usr/local/lib/python3.7/dist-packages (from boto3->transformers==2.8.0.) (1.25.3)\n",
            "Requirement already satisfied: jmespath<2.0.0,>=0.7.1 in /usr/local/lib/python3.7/dist-packages (from boto3->transformers==2.8.0.) (1.0.0)\n",
            "Requirement already satisfied: python-dateutil<3.0.0,>=2.1 in /usr/local/lib/python3.7/dist-packages (from botocore<1.26.0,>=1.25.3->boto3->transformers==2.8.0.) (2.8.2)\n",
            "Requirement already satisfied: urllib3<1.27,>=1.25.4 in /usr/local/lib/python3.7/dist-packages (from botocore<1.26.0,>=1.25.3->boto3->transformers==2.8.0.) (1.25.11)\n",
            "Requirement already satisfied: six>=1.5 in /usr/local/lib/python3.7/dist-packages (from python-dateutil<3.0.0,>=2.1->botocore<1.26.0,>=1.25.3->boto3->transformers==2.8.0.) (1.15.0)\n",
            "Requirement already satisfied: idna<3,>=2.5 in /usr/local/lib/python3.7/dist-packages (from requests->transformers==2.8.0.) (2.10)\n",
            "Requirement already satisfied: chardet<4,>=3.0.2 in /usr/local/lib/python3.7/dist-packages (from requests->transformers==2.8.0.) (3.0.4)\n",
            "Requirement already satisfied: certifi>=2017.4.17 in /usr/local/lib/python3.7/dist-packages (from requests->transformers==2.8.0.) (2021.10.8)\n",
            "Requirement already satisfied: joblib in /usr/local/lib/python3.7/dist-packages (from sacremoses->transformers==2.8.0.) (1.1.0)\n",
            "Requirement already satisfied: click in /usr/local/lib/python3.7/dist-packages (from sacremoses->transformers==2.8.0.) (7.1.2)\n",
            "Installing collected packages: tokenizers, transformers\n",
            "  Attempting uninstall: tokenizers\n",
            "    Found existing installation: tokenizers 0.10.3\n",
            "    Uninstalling tokenizers-0.10.3:\n",
            "      Successfully uninstalled tokenizers-0.10.3\n",
            "  Attempting uninstall: transformers\n",
            "    Found existing installation: transformers 4.11.3\n",
            "    Uninstalling transformers-4.11.3:\n",
            "      Successfully uninstalled transformers-4.11.3\n",
            "Successfully installed tokenizers-0.5.2 transformers-2.8.0\n"
          ]
        }
      ]
    },
    {
      "cell_type": "code",
      "source": [
        "import xlrd\n",
        "import pandas as pd\n",
        "import re\n",
        "#from infer_example import  Inferer\n",
        "import torch\n",
        "import torch.nn.functional as F\n",
        "import xlsxwriter\n"
      ],
      "metadata": {
        "id": "pti-tgQUsu8K"
      },
      "execution_count": null,
      "outputs": []
    },
    {
      "cell_type": "code",
      "source": [
        "!pip install XlsxWriter"
      ],
      "metadata": {
        "colab": {
          "base_uri": "https://localhost:8080/"
        },
        "id": "cbJCuFA46JCL",
        "outputId": "bf42b6da-c85f-48e1-a6a6-ef7980c83641"
      },
      "execution_count": null,
      "outputs": [
        {
          "output_type": "stream",
          "name": "stdout",
          "text": [
            "Collecting XlsxWriter\n",
            "  Downloading XlsxWriter-3.0.3-py3-none-any.whl (149 kB)\n",
            "\u001b[?25l\r\u001b[K     |██▏                             | 10 kB 26.7 MB/s eta 0:00:01\r\u001b[K     |████▍                           | 20 kB 13.2 MB/s eta 0:00:01\r\u001b[K     |██████▌                         | 30 kB 10.0 MB/s eta 0:00:01\r\u001b[K     |████████▊                       | 40 kB 8.4 MB/s eta 0:00:01\r\u001b[K     |███████████                     | 51 kB 4.3 MB/s eta 0:00:01\r\u001b[K     |█████████████                   | 61 kB 5.0 MB/s eta 0:00:01\r\u001b[K     |███████████████▎                | 71 kB 5.3 MB/s eta 0:00:01\r\u001b[K     |█████████████████▌              | 81 kB 4.2 MB/s eta 0:00:01\r\u001b[K     |███████████████████▋            | 92 kB 4.7 MB/s eta 0:00:01\r\u001b[K     |█████████████████████▉          | 102 kB 5.1 MB/s eta 0:00:01\r\u001b[K     |████████████████████████        | 112 kB 5.1 MB/s eta 0:00:01\r\u001b[K     |██████████████████████████▏     | 122 kB 5.1 MB/s eta 0:00:01\r\u001b[K     |████████████████████████████▍   | 133 kB 5.1 MB/s eta 0:00:01\r\u001b[K     |██████████████████████████████▋ | 143 kB 5.1 MB/s eta 0:00:01\r\u001b[K     |████████████████████████████████| 149 kB 5.1 MB/s \n",
            "\u001b[?25hInstalling collected packages: XlsxWriter\n",
            "Successfully installed XlsxWriter-3.0.3\n"
          ]
        }
      ]
    },
    {
      "cell_type": "code",
      "source": [
        "from numpy import str0\n",
        "data = xlrd.open_workbook('/content/drive/MyDrive/ABSA/data_outSG_2021.xlsx')\n",
        "table = data.sheets()[0]\n",
        "tables = []\n",
        "Keylist = [\"LGBT\",\"anti-LGBT\",\"anti-LGBT law\",\"lgbt-right\",\"lgbt right\", \"IVF\",\"adoption right\",\"anti-gay law\",\"anti-gay\", \"same sex relation\", \"gay\", \"lesbians\",\"Homo\",\n",
        "\"same sex marriage\",\"clown\",\"Section377a\",\"Section 377a\",\"IVF\",\"HIV\", \"AIDS\",\"same-sex couples\",\"Pink Dot\",\"Pride Month\"]\n",
        "Keylist2 = [s.lower() for s in Keylist]\n",
        "\n",
        "\n",
        "\n",
        "\n",
        "f = open(\"/content/drive/MyDrive/ABSA/output.txt\", \"a\")\n",
        "for rown in range(table.nrows):\n",
        "  str1 = table.cell_value(rown, 0)\n",
        "  #print(str1)\n",
        "  strX = \"\".join(str1)\n",
        " \n",
        "  list = [s.lower() for s in strX]\n",
        "  \n",
        "  n=0\n",
        "  for keylist in Keylist2:\n",
        "    str2= ''.join(list)\n",
        "    index=str2.find(keylist,re.IGNORECASE)\n",
        "    if index != -1:   \n",
        "      aspect = keylist\n",
        "      n= n+1\n",
        "      print(str1,\"\",file=f)\n",
        "      print(aspect,end=\"\",file=f) \n",
        "      print(\"\\n\",file=f)\n",
        "      \n",
        "\n",
        "\n",
        "f.close()\n",
        "   "
      ],
      "metadata": {
        "id": "udARrpsn-6Tu"
      },
      "execution_count": null,
      "outputs": []
    },
    {
      "cell_type": "code",
      "source": [
        "!python /content/drive/MyDrive/ABSA/infer_example.py \n"
      ],
      "metadata": {
        "colab": {
          "base_uri": "https://localhost:8080/"
        },
        "id": "0S_56OF-_vKq",
        "outputId": "ac873fd1-5424-4fa5-bb4c-a4ea584f38de"
      },
      "execution_count": null,
      "outputs": [
        {
          "output_type": "stream",
          "name": "stdout",
          "text": [
            "loading model lcf_bert ...\n",
            "Traceback (most recent call last):\n",
            "  File \"/content/drive/MyDrive/ABSA/infer_example.py\", line 177, in <module>\n",
            "    t_probs = inf.evaluate(text, aspect)\n",
            "  File \"/content/drive/MyDrive/ABSA/infer_example.py\", line 88, in evaluate\n",
            "    t_outputs = self.model(t_inputs)\n",
            "  File \"/usr/local/lib/python3.7/dist-packages/torch/nn/modules/module.py\", line 1110, in _call_impl\n",
            "    return forward_call(*input, **kwargs)\n",
            "  File \"/content/drive/MyDrive/ABSA/models/lcf_bert.py\", line 103, in forward\n",
            "    bert_local_out, _ = self.bert_local(text_local_indices)\n",
            "  File \"/usr/local/lib/python3.7/dist-packages/torch/nn/modules/module.py\", line 1110, in _call_impl\n",
            "    return forward_call(*input, **kwargs)\n",
            "  File \"/usr/local/lib/python3.7/dist-packages/transformers/modeling_bert.py\", line 790, in forward\n",
            "    encoder_attention_mask=encoder_extended_attention_mask,\n",
            "  File \"/usr/local/lib/python3.7/dist-packages/torch/nn/modules/module.py\", line 1110, in _call_impl\n",
            "    return forward_call(*input, **kwargs)\n",
            "  File \"/usr/local/lib/python3.7/dist-packages/transformers/modeling_bert.py\", line 407, in forward\n",
            "    hidden_states, attention_mask, head_mask[i], encoder_hidden_states, encoder_attention_mask\n",
            "  File \"/usr/local/lib/python3.7/dist-packages/torch/nn/modules/module.py\", line 1110, in _call_impl\n",
            "    return forward_call(*input, **kwargs)\n",
            "  File \"/usr/local/lib/python3.7/dist-packages/transformers/modeling_bert.py\", line 379, in forward\n",
            "    intermediate_output = self.intermediate(attention_output)\n",
            "  File \"/usr/local/lib/python3.7/dist-packages/torch/nn/modules/module.py\", line 1110, in _call_impl\n",
            "    return forward_call(*input, **kwargs)\n",
            "  File \"/usr/local/lib/python3.7/dist-packages/transformers/modeling_bert.py\", line 331, in forward\n",
            "    hidden_states = self.dense(hidden_states)\n",
            "  File \"/usr/local/lib/python3.7/dist-packages/torch/nn/modules/module.py\", line 1110, in _call_impl\n",
            "    return forward_call(*input, **kwargs)\n",
            "  File \"/usr/local/lib/python3.7/dist-packages/torch/nn/modules/linear.py\", line 103, in forward\n",
            "    return F.linear(input, self.weight, self.bias)\n",
            "KeyboardInterrupt\n"
          ]
        }
      ]
    },
    {
      "cell_type": "code",
      "source": [
        "fname='/content/drive/MyDrive/ABSA/value.txt'\n",
        "fin = open(fname, 'r', encoding='utf-8', newline='\\n', errors='ignore')\n",
        "lines = fin.readlines()\n",
        "fin.close()\n",
        "all_data = []\n",
        "\n",
        "#f=open(\"/content/drive/MyDrive/ABSA/result.xslx\")\n",
        "\n",
        "xlsx = xlsxwriter.Workbook('/content/drive/MyDrive/ABSA/result.xlsx')   \n",
        "# 添加工作表\n",
        "sheet = xlsx .add_worksheet('data')\n",
        "\n",
        "\n",
        "\n",
        "# line 1 -> 1,0\n",
        "# line 6 -> 6,0\n",
        "# line 11 -> 11,0\n",
        "for i in range(0, len(lines)-1, 5):\n",
        "  j= i//5\n",
        "  sheet.write(j,0,lines[i])\n",
        "  sheet.write(j,1,lines[i+2])\n",
        "   \n",
        "  if len(lines[i+4])==4:\n",
        "   # print(len(lines[i+4]))\n",
        "    sheet.write(j,2,int(lines[i+4][1]))\n",
        "  else :\n",
        "    sheet.write(j,2,-1)\n",
        "   # print(len(lines[i+4]))\n",
        "\n",
        "\n",
        "xlsx.close()\n",
        "       \n",
        "#f.close()\n"
      ],
      "metadata": {
        "id": "C0nzwsmE-k4b"
      },
      "execution_count": null,
      "outputs": []
    },
    {
      "cell_type": "code",
      "source": [
        "str= \"[-1]\"\n",
        "print(len(\"[-1]\"))\n",
        "print(len(\"[1]\"))\n",
        "print(len(str[2]))"
      ],
      "metadata": {
        "colab": {
          "base_uri": "https://localhost:8080/"
        },
        "id": "LnGucG2iCgYb",
        "outputId": "f8b60628-a061-49d2-c38f-10be22aa1718"
      },
      "execution_count": null,
      "outputs": [
        {
          "output_type": "stream",
          "name": "stdout",
          "text": [
            "4\n",
            "3\n",
            "1\n"
          ]
        }
      ]
    }
  ]
}